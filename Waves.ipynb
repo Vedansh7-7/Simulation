{
 "cells": [
  {
   "cell_type": "markdown",
   "id": "f4efdf9e",
   "metadata": {},
   "source": [
    "Wave equation simulation"
   ]
  },
  {
   "cell_type": "code",
   "execution_count": 1,
   "id": "fcf20c5b",
   "metadata": {},
   "outputs": [],
   "source": [
    "import numpy as np"
   ]
  },
  {
   "cell_type": "code",
   "execution_count": 2,
   "id": "7092dc7f",
   "metadata": {},
   "outputs": [
    {
     "name": "stdout",
     "output_type": "stream",
     "text": [
      "[0.   0.01 0.02 0.03 0.04 0.05 0.06 0.07 0.08 0.09 0.1  0.11 0.12 0.13\n",
      " 0.14 0.15 0.16 0.17 0.18 0.19 0.2  0.21 0.22 0.23 0.24 0.25 0.26 0.27\n",
      " 0.28 0.29 0.3  0.31 0.32 0.33 0.34 0.35 0.36 0.37 0.38 0.39 0.4  0.41\n",
      " 0.42 0.43 0.44 0.45 0.46 0.47 0.48 0.49 0.5  0.51 0.52 0.53 0.54 0.55\n",
      " 0.56 0.57 0.58 0.59 0.6  0.61 0.62 0.63 0.64 0.65 0.66 0.67 0.68 0.69\n",
      " 0.7  0.71 0.72 0.73 0.74 0.75 0.76 0.77 0.78 0.79 0.8  0.81 0.82 0.83\n",
      " 0.84 0.85 0.86 0.87 0.88 0.89 0.9  0.91 0.92 0.93 0.94 0.95 0.96 0.97\n",
      " 0.98 0.99 1.   1.01 1.02 1.03 1.04 1.05 1.06 1.07 1.08 1.09 1.1  1.11\n",
      " 1.12 1.13 1.14 1.15 1.16 1.17 1.18 1.19 1.2  1.21 1.22 1.23 1.24 1.25\n",
      " 1.26 1.27 1.28 1.29 1.3  1.31 1.32 1.33 1.34 1.35 1.36 1.37 1.38 1.39\n",
      " 1.4  1.41 1.42 1.43 1.44 1.45 1.46 1.47 1.48 1.49 1.5  1.51 1.52 1.53\n",
      " 1.54 1.55 1.56 1.57 1.58 1.59 1.6  1.61 1.62 1.63 1.64 1.65 1.66 1.67\n",
      " 1.68 1.69 1.7  1.71 1.72 1.73 1.74 1.75 1.76 1.77 1.78 1.79 1.8  1.81\n",
      " 1.82 1.83 1.84 1.85 1.86 1.87 1.88 1.89 1.9  1.91 1.92 1.93 1.94 1.95\n",
      " 1.96 1.97 1.98 1.99 2.  ]\n"
     ]
    }
   ],
   "source": [
    "h = 0.01\n",
    "x0 = 0\n",
    "xl = 2\n",
    "x = np.arange(x0, xl+h, h)\n",
    "print(x)"
   ]
  },
  {
   "cell_type": "code",
   "execution_count": 3,
   "id": "a25fddf0",
   "metadata": {},
   "outputs": [],
   "source": [
    "def func(x):\n",
    "    return x**3\n"
   ]
  },
  {
   "cell_type": "code",
   "execution_count": 4,
   "id": "2e04f3d7",
   "metadata": {},
   "outputs": [],
   "source": [
    "def diff(x, func):\n",
    "    dydx = [0]\n",
    "    for i in range(len(x)-1):\n",
    "        if i == 0:\n",
    "            dydx[0] = func(x[0])\n",
    "        dydx.append((func(x[i+1]) - func(x[i]))/h)\n",
    "    # dydx.append(dydx[-1])\n",
    "    return dydx"
   ]
  },
  {
   "cell_type": "code",
   "execution_count": 5,
   "id": "3501ddaf",
   "metadata": {},
   "outputs": [],
   "source": [
    "dydx = diff(x, func)"
   ]
  },
  {
   "cell_type": "code",
   "execution_count": 6,
   "id": "eb29b3fd",
   "metadata": {},
   "outputs": [],
   "source": [
    "d2ydx2 = diff(dydx, func)"
   ]
  },
  {
   "cell_type": "code",
   "execution_count": 7,
   "id": "cba17636",
   "metadata": {},
   "outputs": [],
   "source": [
    "# %pip install matplotlib\n",
    "import matplotlib.pyplot as plt\n",
    "%matplotlib inline\n"
   ]
  },
  {
   "cell_type": "code",
   "execution_count": 8,
   "id": "31c08f4a",
   "metadata": {},
   "outputs": [
    {
     "data": {
      "text/plain": [
       "<function matplotlib.pyplot.show(close=None, block=None)>"
      ]
     },
     "execution_count": 8,
     "metadata": {},
     "output_type": "execute_result"
    },
    {
     "data": {
      "image/png": "[encoded data removed]",
      "text/plain": [
       "<Figure size 1000x700 with 1 Axes>"
      ]
     },
     "metadata": {},
     "output_type": "display_data"
    }
   ],
   "source": [
    "\n",
    "plt.figure(figsize=(10,7))\n",
    "\n",
    "plt.plot(d2ydx2)\n",
    "plt.plot(dydx)\n",
    "plt.show"
   ]
  },
  {
   "cell_type": "code",
   "execution_count": 9,
   "id": "5c4a1edc",
   "metadata": {},
   "outputs": [],
   "source": [
    "h = 0.000001\n"
   ]
  },
  {
   "cell_type": "markdown",
   "id": "07bbcadf",
   "metadata": {},
   "source": [
    "Using SimPy"
   ]
  },
  {
   "cell_type": "code",
   "execution_count": null,
   "id": "964d8611",
   "metadata": {},
   "outputs": [
    {
     "name": "stdout",
     "output_type": "stream",
     "text": [
      "Requirement already satisfied: sympy in c:\\users\\hp\\miniconda3\\lib\\site-packages (1.14.0)\n",
      "Requirement already satisfied: mpmath<1.4,>=1.1.0 in c:\\users\\hp\\miniconda3\\lib\\site-packages (from sympy) (1.3.0)\n"
     ]
    }
   ],
   "source": [
    "# !pip install sympy"
   ]
  },
  {
   "cell_type": "code",
   "execution_count": 11,
   "id": "b3a34ec0",
   "metadata": {},
   "outputs": [],
   "source": [
    "import sympy as sp"
   ]
  },
  {
   "cell_type": "code",
   "execution_count": 12,
   "id": "b7369a51",
   "metadata": {},
   "outputs": [
    {
     "data": {
      "text/latex": [
       "$\\displaystyle \\sqrt{3}$"
      ],
      "text/plain": [
       "sqrt(3)"
      ]
     },
     "execution_count": 12,
     "metadata": {},
     "output_type": "execute_result"
    }
   ],
   "source": [
    "sp.sqrt(3)"
   ]
  },
  {
   "cell_type": "code",
   "execution_count": 13,
   "id": "73d1536d",
   "metadata": {},
   "outputs": [
    {
     "data": {
      "text/latex": [
       "$\\displaystyle \\sqrt{2}$"
      ],
      "text/plain": [
       "sqrt(2)"
      ]
     },
     "execution_count": 13,
     "metadata": {},
     "output_type": "execute_result"
    }
   ],
   "source": [
    "sp.sqrt(2)"
   ]
  },
  {
   "cell_type": "code",
   "execution_count": 14,
   "id": "3075e610",
   "metadata": {},
   "outputs": [
    {
     "data": {
      "text/latex": [
       "$\\displaystyle 2$"
      ],
      "text/plain": [
       "2"
      ]
     },
     "execution_count": 14,
     "metadata": {},
     "output_type": "execute_result"
    }
   ],
   "source": [
    "sp.sqrt(4)"
   ]
  },
  {
   "cell_type": "code",
   "execution_count": 15,
   "id": "d05b5551",
   "metadata": {},
   "outputs": [
    {
     "data": {
      "text/latex": [
       "$\\displaystyle 2 \\sqrt{2}$"
      ],
      "text/plain": [
       "2*sqrt(2)"
      ]
     },
     "execution_count": 15,
     "metadata": {},
     "output_type": "execute_result"
    }
   ],
   "source": [
    "sp.sqrt(8)"
   ]
  },
  {
   "cell_type": "code",
   "execution_count": 16,
   "id": "fa4e607e",
   "metadata": {},
   "outputs": [],
   "source": [
    "from sympy import symbols"
   ]
  },
  {
   "cell_type": "code",
   "execution_count": 17,
   "id": "b6a5e80c",
   "metadata": {},
   "outputs": [
    {
     "data": {
      "text/latex": [
       "$\\displaystyle x + 2 y$"
      ],
      "text/plain": [
       "x + 2*y"
      ]
     },
     "execution_count": 17,
     "metadata": {},
     "output_type": "execute_result"
    }
   ],
   "source": [
    "x, y = symbols('x y')\n",
    "expres = x + 2*y\n",
    "expres"
   ]
  },
  {
   "cell_type": "markdown",
   "id": "3a8d232c",
   "metadata": {},
   "source": [
    "We can play around with it too!"
   ]
  },
  {
   "cell_type": "code",
   "execution_count": 18,
   "id": "73594195",
   "metadata": {},
   "outputs": [
    {
     "data": {
      "text/latex": [
       "$\\displaystyle - x + y - 1$"
      ],
      "text/plain": [
       "-x + y - 1"
      ]
     },
     "execution_count": 18,
     "metadata": {},
     "output_type": "execute_result"
    }
   ],
   "source": [
    "(expres - 2 - 3*x)/2"
   ]
  },
  {
   "cell_type": "code",
   "execution_count": 19,
   "id": "3b47edac",
   "metadata": {},
   "outputs": [],
   "source": [
    "expres = x*expres"
   ]
  },
  {
   "cell_type": "markdown",
   "id": "7b0a8bab",
   "metadata": {},
   "source": [
    "Expansion of the above factored expression can be done by expand(expres) and can be brought back by factor(expres)"
   ]
  },
  {
   "cell_type": "code",
   "execution_count": 20,
   "id": "1e222841",
   "metadata": {},
   "outputs": [],
   "source": [
    "from sympy import expand, factor"
   ]
  },
  {
   "cell_type": "code",
   "execution_count": 21,
   "id": "fa52a9fc",
   "metadata": {},
   "outputs": [
    {
     "data": {
      "text/latex": [
       "$\\displaystyle x^{2} + 2 x y$"
      ],
      "text/plain": [
       "x**2 + 2*x*y"
      ]
     },
     "execution_count": 21,
     "metadata": {},
     "output_type": "execute_result"
    }
   ],
   "source": [
    "expres = expand(expres)\n",
    "expres"
   ]
  },
  {
   "cell_type": "code",
   "execution_count": 22,
   "id": "b9f17b98",
   "metadata": {},
   "outputs": [
    {
     "data": {
      "text/latex": [
       "$\\displaystyle x \\left(x + 2 y\\right)$"
      ],
      "text/plain": [
       "x*(x + 2*y)"
      ]
     },
     "execution_count": 22,
     "metadata": {},
     "output_type": "execute_result"
    }
   ],
   "source": [
    "expres = factor(expres)\n",
    "expres"
   ]
  },
  {
   "cell_type": "markdown",
   "id": "496f9561",
   "metadata": {},
   "source": [
    "Let us now use the whole library"
   ]
  },
  {
   "cell_type": "code",
   "execution_count": 23,
   "id": "5d7d16b1",
   "metadata": {},
   "outputs": [],
   "source": [
    "from sympy import *"
   ]
  },
  {
   "cell_type": "code",
   "execution_count": 24,
   "id": "734a551c",
   "metadata": {},
   "outputs": [],
   "source": [
    "x, y = symbols('x y')"
   ]
  },
  {
   "cell_type": "code",
   "execution_count": 25,
   "id": "d17e3cb5",
   "metadata": {},
   "outputs": [],
   "source": [
    "init_printing(use_unicode=True)\n",
    "# init_printing(pretty_print=True)"
   ]
  },
  {
   "cell_type": "code",
   "execution_count": 26,
   "id": "2a21c687",
   "metadata": {},
   "outputs": [
    {
     "data": {
      "image/png": "[encoded data removed]",
      "text/latex": [
       "$\\displaystyle e^{x} \\sin{\\left(x \\right)} + e^{x} \\cos{\\left(x \\right)}$"
      ],
      "text/plain": [
       " x           x       \n",
       "ℯ ⋅sin(x) + ℯ ⋅cos(x)"
      ]
     },
     "execution_count": 26,
     "metadata": {},
     "output_type": "execute_result"
    }
   ],
   "source": [
    "diff(sin(x)*exp(x), x)"
   ]
  },
  {
   "cell_type": "code",
   "execution_count": 27,
   "id": "50d29de2",
   "metadata": {},
   "outputs": [
    {
     "data": {
      "image/png": "[encoded data removed]",
      "text/latex": [
       "$\\displaystyle e^{x} \\sin{\\left(x \\right)}$"
      ],
      "text/plain": [
       " x       \n",
       "ℯ ⋅sin(x)"
      ]
     },
     "execution_count": 27,
     "metadata": {},
     "output_type": "execute_result"
    }
   ],
   "source": [
    "integrate(exp(x)*sin(x) + exp(x)*cos(x), x)"
   ]
  },
  {
   "cell_type": "code",
   "execution_count": 28,
   "id": "21f0fb63",
   "metadata": {},
   "outputs": [
    {
     "data": {
      "image/png": "[encoded data removed]",
      "text/latex": [
       "$\\displaystyle \\frac{\\sqrt{2} \\sqrt{\\pi}}{2}$"
      ],
      "text/plain": [
       "√2⋅√π\n",
       "─────\n",
       "  2  "
      ]
     },
     "execution_count": 28,
     "metadata": {},
     "output_type": "execute_result"
    }
   ],
   "source": [
    "integrate(sin(x**2), (x, -oo, oo))"
   ]
  },
  {
   "cell_type": "code",
   "execution_count": 29,
   "id": "8b90957f",
   "metadata": {},
   "outputs": [
    {
     "data": {
      "image/png": "[encoded data removed]",
      "text/latex": [
       "$\\displaystyle 1$"
      ],
      "text/plain": [
       "1"
      ]
     },
     "execution_count": 29,
     "metadata": {},
     "output_type": "execute_result"
    }
   ],
   "source": [
    "limit(sin(x)/x, x, 0)"
   ]
  },
  {
   "cell_type": "code",
   "execution_count": 30,
   "id": "b9f6922d",
   "metadata": {},
   "outputs": [
    {
     "data": {
      "image/png": "[encoded data removed]",
      "text/latex": [
       "$\\displaystyle \\left[ - \\sqrt{1 - 7 y}, \\  \\sqrt{1 - 7 y}\\right]$"
      ],
      "text/plain": [
       "⎡   _________    _________⎤\n",
       "⎣-╲╱ 1 - 7⋅y , ╲╱ 1 - 7⋅y ⎦"
      ]
     },
     "execution_count": 30,
     "metadata": {},
     "output_type": "execute_result"
    }
   ],
   "source": [
    "solve(x**2 - 1 + 7*y, x)"
   ]
  },
  {
   "cell_type": "code",
   "execution_count": 31,
   "id": "427ab604",
   "metadata": {},
   "outputs": [
    {
     "data": {
      "image/png": "[encoded data removed]",
      "text/latex": [
       "$\\displaystyle - y{\\left(x \\right)} + \\frac{d^{2}}{d x^{2}} y{\\left(x \\right)} = e^{x}$"
      ],
      "text/plain": [
       "         2            \n",
       "        d            x\n",
       "-y(x) + ───(y(x)) = ℯ \n",
       "          2           \n",
       "        dx            "
      ]
     },
     "execution_count": 31,
     "metadata": {},
     "output_type": "execute_result"
    }
   ],
   "source": [
    "y = Function('y')\n",
    "Eq(y(x).diff(x,x) - y(x), exp(x))"
   ]
  },
  {
   "cell_type": "code",
   "execution_count": 32,
   "id": "203b82e9",
   "metadata": {},
   "outputs": [
    {
     "data": {
      "image/png": "[encoded data removed]",
      "text/latex": [
       "$\\displaystyle y{\\left(x \\right)} = C_{2} e^{- x} + \\left(C_{1} + \\frac{x}{2}\\right) e^{x}$"
      ],
      "text/plain": [
       "           -x   ⎛     x⎞  x\n",
       "y(x) = C₂⋅ℯ   + ⎜C₁ + ─⎟⋅ℯ \n",
       "                ⎝     2⎠   "
      ]
     },
     "execution_count": 32,
     "metadata": {},
     "output_type": "execute_result"
    }
   ],
   "source": [
    "dsolve(Eq(y(x).diff(x,x) - y(x), exp(x)), y(x))"
   ]
  },
  {
   "cell_type": "code",
   "execution_count": 33,
   "id": "c7ca2c43",
   "metadata": {},
   "outputs": [],
   "source": [
    "from matplotlib.animation import FuncAnimation\n",
    "from IPython.display import HTML\n",
    "\n",
    "def show_animation(fig, update_func, frames=100, interval=50, blit=True):\n",
    "    \"\"\"\n",
    "    Display a matplotlib animation inline in Jupyter Notebook.\n",
    "    \n",
    "    Parameters:\n",
    "    - fig: matplotlib type fig object\n",
    "    - update_func: function(frame) -> list of frame to update\n",
    "    - frames: number of frames in animation\n",
    "    - interval: delay between frames in ms\n",
    "    - blit: whether to use blitting for efficiency (was there in the function itself)\n",
    "    \"\"\"\n",
    "    ani = FuncAnimation(fig, update_func, frames=frames, interval=interval, blit=blit)\n",
    "    return HTML(ani.to_jshtml())\n"
   ]
  },
  {
   "cell_type": "code",
   "execution_count": 37,
   "id": "9e748010",
   "metadata": {},
   "outputs": [
    {
     "data": {
      "image/png": "[encoded data removed]",
      "text/latex": [
       "$\\displaystyle c^{2} \\frac{\\partial^{2}}{\\partial x^{2}} y{\\left(x,t \\right)} = \\frac{\\partial^{2}}{\\partial t^{2}} y{\\left(x,t \\right)}$"
      ],
      "text/plain": [
       "    2              2          \n",
       " 2 ∂              ∂           \n",
       "c ⋅───(y(x, t)) = ───(y(x, t))\n",
       "     2              2         \n",
       "   ∂x             ∂t          "
      ]
     },
     "execution_count": 37,
     "metadata": {},
     "output_type": "execute_result"
    }
   ],
   "source": [
    "x, c, t, k = symbols('x c t k')\n",
    "y = Function('y')\n",
    "Eq((c**2)*(y(x, t).diff(x, x)), y(x, t).diff(t, t))"
   ]
  },
  {
   "cell_type": "code",
   "execution_count": 62,
   "id": "5fc8b2de",
   "metadata": {},
   "outputs": [
    {
     "data": {
      "image/png": "[encoded data removed]",
      "text/latex": [
       "$\\displaystyle \\frac{d^{2}}{d x^{2}} X{\\left(x \\right)} = - k^{2} X{\\left(x \\right)}$"
      ],
      "text/plain": [
       " 2                  \n",
       "d             2     \n",
       "───(X(x)) = -k ⋅X(x)\n",
       "  2                 \n",
       "dx                  "
      ]
     },
     "execution_count": 62,
     "metadata": {},
     "output_type": "execute_result"
    }
   ],
   "source": [
    "X = Function('X')\n",
    "Eq((X(x).diff(x, x)),(X(x))*(-k**2))"
   ]
  },
  {
   "cell_type": "code",
   "execution_count": 75,
   "id": "90c1f768",
   "metadata": {},
   "outputs": [
    {
     "data": {
      "image/png": "[encoded data removed]",
      "text/latex": [
       "$\\displaystyle X{\\left(x \\right)} = C_{2} e^{i k x} - C_{2} e^{- i k x}$"
      ],
      "text/plain": [
       "           ⅈ⋅k⋅x       -ⅈ⋅k⋅x\n",
       "X(x) = C₂⋅ℯ      - C₂⋅ℯ      "
      ]
     },
     "execution_count": 75,
     "metadata": {},
     "output_type": "execute_result"
    }
   ],
   "source": [
    "Xx = dsolve(Eq((X(x).diff(x, x)),(X(x))*(-k**2)), X(x), ics = {X(0): 0})\n",
    "Xx"
   ]
  },
  {
   "cell_type": "code",
   "execution_count": 76,
   "id": "41083927",
   "metadata": {},
   "outputs": [
    {
     "data": {
      "image/png": "[encoded data removed]",
      "text/latex": [
       "$\\displaystyle \\frac{d^{2}}{d t^{2}} T{\\left(t \\right)} = - c^{2} k^{2} T{\\left(t \\right)}$"
      ],
      "text/plain": [
       " 2                     \n",
       "d             2  2     \n",
       "───(T(t)) = -c ⋅k ⋅T(t)\n",
       "  2                    \n",
       "dt                     "
      ]
     },
     "execution_count": 76,
     "metadata": {},
     "output_type": "execute_result"
    }
   ],
   "source": [
    "T = Function('T')\n",
    "Eq((T(t).diff(t, t)),((c**2)*T(t))*(-k**2))"
   ]
  },
  {
   "cell_type": "code",
   "execution_count": 85,
   "id": "6661528a",
   "metadata": {},
   "outputs": [
    {
     "data": {
      "image/png": "[encoded data removed]",
      "text/latex": [
       "$\\displaystyle T{\\left(t \\right)} = C_{2} e^{i c k t} - C_{2} e^{- i c k t}$"
      ],
      "text/plain": [
       "           ⅈ⋅c⋅k⋅t       -ⅈ⋅c⋅k⋅t\n",
       "T(t) = C₂⋅ℯ        - C₂⋅ℯ        "
      ]
     },
     "execution_count": 85,
     "metadata": {},
     "output_type": "execute_result"
    }
   ],
   "source": [
    "Tt = dsolve(Eq((T(t).diff(t, t)),((c**2)*T(t))*(-k**2)), T(t), ics = {T(0): 0})\n",
    "Tt"
   ]
  },
  {
   "cell_type": "code",
   "execution_count": 86,
   "id": "d74ff33f",
   "metadata": {},
   "outputs": [
    {
     "data": {
      "image/png": "[encoded data removed]",
      "text/latex": [
       "$\\displaystyle \\left(C_{2} e^{i k x} - C_{2} e^{- i k x}\\right) \\left(C_{2} e^{i c k t} - C_{2} e^{- i c k t}\\right)$"
      ],
      "text/plain": [
       "⎛    ⅈ⋅k⋅x       -ⅈ⋅k⋅x⎞ ⎛    ⅈ⋅c⋅k⋅t       -ⅈ⋅c⋅k⋅t⎞\n",
       "⎝C₂⋅ℯ      - C₂⋅ℯ      ⎠⋅⎝C₂⋅ℯ        - C₂⋅ℯ        ⎠"
      ]
     },
     "execution_count": 86,
     "metadata": {},
     "output_type": "execute_result"
    }
   ],
   "source": [
    "y = Xx.rhs * Tt.rhs\n",
    "y"
   ]
  },
  {
   "cell_type": "code",
   "execution_count": null,
   "id": "fc188e0d",
   "metadata": {},
   "outputs": [],
   "source": []
  },
  {
   "cell_type": "code",
   "execution_count": null,
   "id": "8266efab",
   "metadata": {},
   "outputs": [],
   "source": []
  }
 ],
 "metadata": {
  "kernelspec": {
   "display_name": "base",
   "language": "python",
   "name": "python3"
  },
  "language_info": {
   "codemirror_mode": {
    "name": "ipython",
    "version": 3
   },
   "file_extension": ".py",
   "mimetype": "text/x-python",
   "name": "python",
   "nbconvert_exporter": "python",
   "pygments_lexer": "ipython3",
   "version": "3.13.5"
  }
 },
 "nbformat": 4,
 "nbformat_minor": 5
}
